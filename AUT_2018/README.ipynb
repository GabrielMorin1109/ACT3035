{
 "cells": [
  {
   "cell_type": "markdown",
   "metadata": {},
   "source": [
    "# ACT3035_A2018 Cours_2"
   ]
  },
  {
   "cell_type": "markdown",
   "metadata": {},
   "source": [
    "## Notes du cours\n",
    "* Voici la [partie#1](https://github.com/nmeraihi/ACT3035/blob/master/AUT_2018/2_1_cours.ipynb) et la [partie#2](https://github.com/nmeraihi/ACT3035/blob/master/AUT_2018/2_2_cours.ipynb) des notes du cours en format continu. \n",
    "* Si vous voulez avoir ces mêmes notes de cours en format _slides_, je peux le faire aussi, juste me le demander\n",
    "* Vous retrouvez également le [script_2](https://github.com/nmeraihi/ACT3035/blob/master/AUT_2018/2_5_script.R) (code brut) que j'ai tapé sur la console RStudio.\n",
    "\n",
    "## Exercices\n",
    "* [Questions](http://nbviewer.jupyter.org/github/nmeraihi/ACT3035/blob/master/AUT_2018/2_3_Exercices.ipynb)\n",
    "* [Solutions](http://nbviewer.jupyter.org/github/nmeraihi/ACT3035/blob/master/AUT_2018/2_4_Solutions.ipynb#Question)\n"
   ]
  },
  {
   "cell_type": "markdown",
   "metadata": {},
   "source": [
    "# ACT3035_A2018 Cours_1"
   ]
  },
  {
   "cell_type": "markdown",
   "metadata": {},
   "source": [
    "## Notes du cours\n",
    "* Voici la [partie#1](https://nbviewer.jupyter.org/github/nmeraihi/ACT3035/blob/master/AUT_2018/1_1_cours.ipynb) et la [partie#2](https://nbviewer.jupyter.org/github/nmeraihi/ACT3035/blob/master/AUT_2018/1_2_cours.ipynb) des notes du cours en format continu. \n",
    "* Si vous voulez avoir ces mêmes notes de cours en format _slides_, voici la [slides#1](http://nour.me/presentations/1_1_cours.slides.html) et la [slides#2](http://nour.me/presentations/1_2_cours.slides.html)\n",
    "* Vous retrouvez également le [script_1](https://github.com/nmeraihi/ACT3035/blob/master/AUT_2018/1_5_script.R) (code brut) que j'ai tapé sur la console RStudio.\n",
    "\n",
    "## Exercices\n",
    "* Comme vous l'avez vu lors du dernier cours, il y'a 63 étudiants inscrits au cours. Comme nous avons seulement 50 ordinateurs dans le laboratoire, je vous conseille d'amener votre ordinateur personnel afin de suivre tous les exemples que je donne au cours. Car après tout, il s'agit bien d'un \"laboratoire\" d'actuariat !\n",
    "* Votre premier exercice est de vous assurez d'avoir votre environnement de travail fonctionnel, vous n'êtes pas obligé d'avoir un ordinateur puissant, tour ordinateur contenant un processeur basique fera largement le travail.\n",
    "* Ensuite, [voici la première série](https://github.com/nmeraihi/ACT3035/blob/master/AUT_2018/1_3_Exercices_vecteurs.ipynb) de quelques exercices très simple pour débuter!\n",
    "* Finalement, [voici également la solution](https://github.com/nmeraihi/ACT3035/blob/master/AUT_2018/1_4_Exercices_vecteurs-solutions.ipynb), mais attention! il faut essayer de résoudre les numéros avant de voir la solution.\n",
    "\n",
    "## Infos générales\n",
    "* Voici la [présentation](http://nour.me/presentations/ACT3035_PCA2018.html#/) du plan du cours que nous avons vu ensemble ce matin.\n",
    "* Voici des tutoriels pour installer R et RStudio sur votre ordinateur personnel;\n",
    "    * <a class=\"fragment\" href=\"https://medium.com/@GalarnykMichael/install-r-and-rstudio-on-windows-5f503f708027\">Windows</a>\n",
    "    * <a class=\"fragment\" href=\"https://medium.com/@GalarnykMichael/install-r-and-rstudio-on-mac-e911606ce4f4\">Mac Os X</a><br>\n",
    "    * <a class=\"fragment\" href=\"https://medium.com/@GalarnykMichael/install-r-and-rstudio-on-ubuntu-12-04-14-04-16-04-b6b3107f7779\">Ubuntu</a>\n",
    "* Vous pouvez effectuer ce petit [sondage](https://goo.gl/forms/kDoCDxdVHP07bX2o1) afin que j'aie une idée sur le niveau moyen en programmation des étudiants."
   ]
  }
 ],
 "metadata": {
  "kernelspec": {
   "display_name": "Python 3",
   "language": "python",
   "name": "python3"
  },
  "language_info": {
   "codemirror_mode": {
    "name": "ipython",
    "version": 3
   },
   "file_extension": ".py",
   "mimetype": "text/x-python",
   "name": "python",
   "nbconvert_exporter": "python",
   "pygments_lexer": "ipython3",
   "version": "3.6.5"
  },
  "toc": {
   "base_numbering": 1,
   "nav_menu": {},
   "number_sections": false,
   "sideBar": true,
   "skip_h1_title": false,
   "title_cell": "Table of Contents",
   "title_sidebar": "Contents",
   "toc_cell": false,
   "toc_position": {},
   "toc_section_display": true,
   "toc_window_display": true
  }
 },
 "nbformat": 4,
 "nbformat_minor": 2
}
