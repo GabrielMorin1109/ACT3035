{
 "cells": [
  {
   "cell_type": "code",
   "execution_count": null,
   "metadata": {
    "collapsed": true
   },
   "outputs": [],
   "source": [
    "library(stringr)"
   ]
  },
  {
   "cell_type": "markdown",
   "metadata": {},
   "source": [
    "# no 1\n",
    "Créer n'importe quuel fichier sur votre répertoire de travail et vérifier s'il existe.\n",
    "\n",
    "**Note** ce numéros sert juste à pratiquer `file.create` et `file.exists`."
   ]
  },
  {
   "cell_type": "code",
   "execution_count": 1,
   "metadata": {},
   "outputs": [
    {
     "data": {
      "text/html": [
       "TRUE"
      ],
      "text/latex": [
       "TRUE"
      ],
      "text/markdown": [
       "TRUE"
      ],
      "text/plain": [
       "[1] TRUE"
      ]
     },
     "metadata": {},
     "output_type": "display_data"
    }
   ],
   "source": [
    "file.create(\"vide.txt\")"
   ]
  },
  {
   "cell_type": "code",
   "execution_count": 3,
   "metadata": {},
   "outputs": [
    {
     "data": {
      "text/html": [
       "TRUE"
      ],
      "text/latex": [
       "TRUE"
      ],
      "text/markdown": [
       "TRUE"
      ],
      "text/plain": [
       "[1] TRUE"
      ]
     },
     "metadata": {},
     "output_type": "display_data"
    }
   ],
   "source": [
    "file.exists(\"vide.txt\")"
   ]
  },
  {
   "cell_type": "code",
   "execution_count": 4,
   "metadata": {},
   "outputs": [
    {
     "data": {
      "text/html": [
       "FALSE"
      ],
      "text/latex": [
       "FALSE"
      ],
      "text/markdown": [
       "FALSE"
      ],
      "text/plain": [
       "[1] FALSE"
      ]
     },
     "metadata": {},
     "output_type": "display_data"
    }
   ],
   "source": [
    "file.exists(\"vide.csv\")"
   ]
  },
  {
   "cell_type": "markdown",
   "metadata": {},
   "source": [
    "# no 2"
   ]
  },
  {
   "cell_type": "markdown",
   "metadata": {},
   "source": [
    "\n",
    "Créez une variable qui représente votre date de naissance appelée date_naiss.\n"
   ]
  },
  {
   "cell_type": "code",
   "execution_count": null,
   "metadata": {
    "collapsed": true
   },
   "outputs": [],
   "source": [
    "date_naiss<-ymd('1990-10-16')\n",
    "date_naiss"
   ]
  },
  {
   "cell_type": "markdown",
   "metadata": {},
   "source": [
    "Quelle jour de semaine vous êtes né?"
   ]
  },
  {
   "cell_type": "code",
   "execution_count": null,
   "metadata": {
    "collapsed": true
   },
   "outputs": [],
   "source": [
    "weekdays(date_naiss)"
   ]
  },
  {
   "cell_type": "markdown",
   "metadata": {},
   "source": [
    "Affichez le résultat en espagnole"
   ]
  },
  {
   "cell_type": "code",
   "execution_count": null,
   "metadata": {
    "collapsed": true
   },
   "outputs": [],
   "source": [
    "Sys.setlocale(locale=\"es_ES.UTF-8\")"
   ]
  },
  {
   "cell_type": "code",
   "execution_count": null,
   "metadata": {
    "collapsed": true
   },
   "outputs": [],
   "source": [
    "weekdays(date_naiss)"
   ]
  },
  {
   "cell_type": "markdown",
   "metadata": {},
   "source": [
    "Remettre votre ordi en Français"
   ]
  },
  {
   "cell_type": "code",
   "execution_count": null,
   "metadata": {
    "collapsed": true
   },
   "outputs": [],
   "source": [
    "Sys.setlocale(locale=\"fr_FR.UTF-8\")"
   ]
  },
  {
   "cell_type": "markdown",
   "metadata": {},
   "source": [
    "# no 3"
   ]
  },
  {
   "cell_type": "markdown",
   "metadata": {},
   "source": [
    "Afin de remercier vos collègues de travail de leur présence à votre première formation que vous avez donné, vous décidez de leur envoyer un message de remerciemenets. Toutefois, vous voulez ajouter votre touche personnelle en écrivant un émail à chaucun de vos collègues. en mentionnant leur prénoms à l'entête de du message. \n",
    "\n",
    "Votre message ressmble à ceci:\n",
    "___\n",
    "```\n",
    "Chère \"prénom\" ,\n",
    "\n",
    "Un petit mot pour vous dire merci. Merci d’avoir contribué à la réussite de ma première présentation.\n",
    "\n",
    "À bientôt!\n",
    "\n",
    "```\n",
    "___"
   ]
  },
  {
   "cell_type": "code",
   "execution_count": 1,
   "metadata": {},
   "outputs": [],
   "source": [
    "a<-read.csv(\"https://raw.githubusercontent.com/nmeraihi/data/master/coll%C3%A8gues.csv\")"
   ]
  },
  {
   "cell_type": "code",
   "execution_count": 2,
   "metadata": {},
   "outputs": [
    {
     "data": {
      "text/html": [
       "<table>\n",
       "<thead><tr><th></th><th scope=col>birthdate</th><th scope=col>PrenomNom</th><th scope=col>sex</th></tr></thead>\n",
       "<tbody>\n",
       "\t<tr><th scope=row>66</th><td>1983-08-04             </td><td>Sabine Lejeune         </td><td>F                      </td></tr>\n",
       "\t<tr><th scope=row>67</th><td>1995-05-24             </td><td>Timothée Marchand      </td><td>M                      </td></tr>\n",
       "\t<tr><th scope=row>68</th><td>1990-06-05             </td><td>Sylvie Roux-Delattre   </td><td>F                      </td></tr>\n",
       "\t<tr><th scope=row>69</th><td>1985-02-14             </td><td>Patrick-Daniel Barre   </td><td>M                      </td></tr>\n",
       "\t<tr><th scope=row>70</th><td>1981-02-20             </td><td>Laurent Lacombe-Lecomte</td><td>M                      </td></tr>\n",
       "\t<tr><th scope=row>71</th><td>1990-03-08             </td><td>Marcel David           </td><td>M                      </td></tr>\n",
       "</tbody>\n",
       "</table>\n"
      ],
      "text/latex": [
       "\\begin{tabular}{r|lll}\n",
       "  & birthdate & PrenomNom & sex\\\\\n",
       "\\hline\n",
       "\t66 & 1983-08-04              & Sabine Lejeune          & F                      \\\\\n",
       "\t67 & 1995-05-24              & Timothée Marchand       & M                      \\\\\n",
       "\t68 & 1990-06-05              & Sylvie Roux-Delattre    & F                      \\\\\n",
       "\t69 & 1985-02-14              & Patrick-Daniel Barre    & M                      \\\\\n",
       "\t70 & 1981-02-20              & Laurent Lacombe-Lecomte & M                      \\\\\n",
       "\t71 & 1990-03-08              & Marcel David            & M                      \\\\\n",
       "\\end{tabular}\n"
      ],
      "text/markdown": [
       "\n",
       "| <!--/--> | birthdate | PrenomNom | sex | \n",
       "|---|---|---|---|---|---|\n",
       "| 66 | 1983-08-04              | Sabine Lejeune          | F                       | \n",
       "| 67 | 1995-05-24              | Timothée Marchand       | M                       | \n",
       "| 68 | 1990-06-05              | Sylvie Roux-Delattre    | F                       | \n",
       "| 69 | 1985-02-14              | Patrick-Daniel Barre    | M                       | \n",
       "| 70 | 1981-02-20              | Laurent Lacombe-Lecomte | M                       | \n",
       "| 71 | 1990-03-08              | Marcel David            | M                       | \n",
       "\n",
       "\n"
      ],
      "text/plain": [
       "   birthdate  PrenomNom               sex\n",
       "66 1983-08-04 Sabine Lejeune          F  \n",
       "67 1995-05-24 Timothée Marchand       M  \n",
       "68 1990-06-05 Sylvie Roux-Delattre    F  \n",
       "69 1985-02-14 Patrick-Daniel Barre    M  \n",
       "70 1981-02-20 Laurent Lacombe-Lecomte M  \n",
       "71 1990-03-08 Marcel David            M  "
      ]
     },
     "metadata": {},
     "output_type": "display_data"
    }
   ],
   "source": [
    "tail(a)"
   ]
  },
  {
   "cell_type": "code",
   "execution_count": 3,
   "metadata": {},
   "outputs": [],
   "source": [
    "library(stringr)"
   ]
  },
  {
   "cell_type": "code",
   "execution_count": 4,
   "metadata": {},
   "outputs": [],
   "source": [
    "a$prenom<- str_split_fixed(a$PrenomNom, \" \", 2)[,1]\n",
    "a$nom<- str_split_fixed(a$PrenomNom, \" \", 2)[,2]"
   ]
  },
  {
   "cell_type": "code",
   "execution_count": 7,
   "metadata": {},
   "outputs": [],
   "source": [
    "a$forme_mas_fem<-ifelse(a$sex==\"F\", paste(\"Chère\", a$prenom, \",\"), paste(\"Chèr\", a$prenom, \",\", sep = \" \"))"
   ]
  },
  {
   "cell_type": "code",
   "execution_count": 8,
   "metadata": {},
   "outputs": [],
   "source": [
    "a$message<-paste(a$forme, \n",
    "                 \"Un petit mot pour vous dire merci. Merci d’avoir contribué à la réussite de ma première présentation.\",\n",
    "                \"À bientôt!\",sep=\"\\n\")"
   ]
  },
  {
   "cell_type": "markdown",
   "metadata": {},
   "source": [
    "On peut voir que le message est bien différent pour chaque collègue"
   ]
  },
  {
   "cell_type": "code",
   "execution_count": 11,
   "metadata": {},
   "outputs": [
    {
     "data": {
      "text/html": [
       "<ol class=list-inline>\n",
       "\t<li>'Chère Anaïs-Adrienne ,\\nUn petit mot pour vous dire merci. Merci d’avoir contribué à la réussite de ma première présentation.\\nÀ bientôt!'</li>\n",
       "\t<li>'Chèr Benjamin ,\\nUn petit mot pour vous dire merci. Merci d’avoir contribué à la réussite de ma première présentation.\\nÀ bientôt!'</li>\n",
       "\t<li>'Chère Laurence ,\\nUn petit mot pour vous dire merci. Merci d’avoir contribué à la réussite de ma première présentation.\\nÀ bientôt!'</li>\n",
       "\t<li>'Chère Philippine ,\\nUn petit mot pour vous dire merci. Merci d’avoir contribué à la réussite de ma première présentation.\\nÀ bientôt!'</li>\n",
       "\t<li>'Chère Louise ,\\nUn petit mot pour vous dire merci. Merci d’avoir contribué à la réussite de ma première présentation.\\nÀ bientôt!'</li>\n",
       "\t<li>'Chèr André ,\\nUn petit mot pour vous dire merci. Merci d’avoir contribué à la réussite de ma première présentation.\\nÀ bientôt!'</li>\n",
       "</ol>\n"
      ],
      "text/latex": [
       "\\begin{enumerate*}\n",
       "\\item 'Chère Anaïs-Adrienne ,\\textbackslash{}nUn petit mot pour vous dire merci. Merci d’avoir contribué à la réussite de ma première présentation.\\textbackslash{}nÀ bientôt!'\n",
       "\\item 'Chèr Benjamin ,\\textbackslash{}nUn petit mot pour vous dire merci. Merci d’avoir contribué à la réussite de ma première présentation.\\textbackslash{}nÀ bientôt!'\n",
       "\\item 'Chère Laurence ,\\textbackslash{}nUn petit mot pour vous dire merci. Merci d’avoir contribué à la réussite de ma première présentation.\\textbackslash{}nÀ bientôt!'\n",
       "\\item 'Chère Philippine ,\\textbackslash{}nUn petit mot pour vous dire merci. Merci d’avoir contribué à la réussite de ma première présentation.\\textbackslash{}nÀ bientôt!'\n",
       "\\item 'Chère Louise ,\\textbackslash{}nUn petit mot pour vous dire merci. Merci d’avoir contribué à la réussite de ma première présentation.\\textbackslash{}nÀ bientôt!'\n",
       "\\item 'Chèr André ,\\textbackslash{}nUn petit mot pour vous dire merci. Merci d’avoir contribué à la réussite de ma première présentation.\\textbackslash{}nÀ bientôt!'\n",
       "\\end{enumerate*}\n"
      ],
      "text/markdown": [
       "1. 'Chère Anaïs-Adrienne ,\\nUn petit mot pour vous dire merci. Merci d’avoir contribué à la réussite de ma première présentation.\\nÀ bientôt!'\n",
       "2. 'Chèr Benjamin ,\\nUn petit mot pour vous dire merci. Merci d’avoir contribué à la réussite de ma première présentation.\\nÀ bientôt!'\n",
       "3. 'Chère Laurence ,\\nUn petit mot pour vous dire merci. Merci d’avoir contribué à la réussite de ma première présentation.\\nÀ bientôt!'\n",
       "4. 'Chère Philippine ,\\nUn petit mot pour vous dire merci. Merci d’avoir contribué à la réussite de ma première présentation.\\nÀ bientôt!'\n",
       "5. 'Chère Louise ,\\nUn petit mot pour vous dire merci. Merci d’avoir contribué à la réussite de ma première présentation.\\nÀ bientôt!'\n",
       "6. 'Chèr André ,\\nUn petit mot pour vous dire merci. Merci d’avoir contribué à la réussite de ma première présentation.\\nÀ bientôt!'\n",
       "\n",
       "\n"
      ],
      "text/plain": [
       "[1] \"Chère Anaïs-Adrienne ,\\nUn petit mot pour vous dire merci. Merci d’avoir contribué à la réussite de ma première présentation.\\nÀ bientôt!\"\n",
       "[2] \"Chèr Benjamin ,\\nUn petit mot pour vous dire merci. Merci d’avoir contribué à la réussite de ma première présentation.\\nÀ bientôt!\"       \n",
       "[3] \"Chère Laurence ,\\nUn petit mot pour vous dire merci. Merci d’avoir contribué à la réussite de ma première présentation.\\nÀ bientôt!\"      \n",
       "[4] \"Chère Philippine ,\\nUn petit mot pour vous dire merci. Merci d’avoir contribué à la réussite de ma première présentation.\\nÀ bientôt!\"    \n",
       "[5] \"Chère Louise ,\\nUn petit mot pour vous dire merci. Merci d’avoir contribué à la réussite de ma première présentation.\\nÀ bientôt!\"        \n",
       "[6] \"Chèr André ,\\nUn petit mot pour vous dire merci. Merci d’avoir contribué à la réussite de ma première présentation.\\nÀ bientôt!\"          "
      ]
     },
     "metadata": {},
     "output_type": "display_data"
    }
   ],
   "source": [
    "head(a$message)"
   ]
  },
  {
   "cell_type": "markdown",
   "metadata": {},
   "source": [
    "Maintenant, essayons d'écrire le premier message dans un fichier `.txt` et regardons le résultat"
   ]
  },
  {
   "cell_type": "code",
   "execution_count": 12,
   "metadata": {},
   "outputs": [],
   "source": [
    "writeLines(a$message[1], con=\"~/Downloads/text.txt\")"
   ]
  },
  {
   "cell_type": "markdown",
   "metadata": {},
   "source": [
    "Maintenant si vous ouvrez le fichier `text.txt` se trouvant dans le répertoire `~/Downloads`, vous devriez obtenir ceci:"
   ]
  },
  {
   "cell_type": "markdown",
   "metadata": {},
   "source": [
    "___\n",
    "```\n",
    "Chère Anaïs-Adrienne ,\n",
    "Un petit mot pour vous dire merci. Merci d’avoir contribué à la réussite de ma première présentation.\n",
    "À bientôt!\n",
    "```\n",
    "___"
   ]
  },
  {
   "cell_type": "markdown",
   "metadata": {},
   "source": [
    "# no 4\n",
    "À partir du fichier csv précédent, calculez l'âge pour chaucne des lignes avec les deux méthodes décrite ci-dessous."
   ]
  },
  {
   "cell_type": "markdown",
   "metadata": {},
   "source": [
    "## calculé\n",
    "Dans la plupart du temps, l'âge peut se calculer comme suit:\n",
    "$$\n",
    "\\frac{(\\text{date d'aujourd'hui}) -(\\text{date de naissance})}{365.25}\n",
    "$$"
   ]
  },
  {
   "cell_type": "markdown",
   "metadata": {},
   "source": [
    "Nous avons appris à créer des fonctions, à partir de la formule précédente, créer une fonction appelé `age` qui calclule l'âge d'une personne. Cette fonction prends comme argument la date de naissance et la date courante. Par défaut, la date de naissance est 1970-01-01 et la date courante est la date d'aujourd'hui"
   ]
  },
  {
   "cell_type": "code",
   "execution_count": null,
   "metadata": {
    "collapsed": true
   },
   "outputs": [],
   "source": [
    "age<-function(date_naiss=ymd('1970-01-01'), date_cour=Sys.Date()){\n",
    "    return(as.numeric((date_cour-date_naiss)/365.25))\n",
    "}"
   ]
  },
  {
   "cell_type": "code",
   "execution_count": null,
   "metadata": {
    "collapsed": true
   },
   "outputs": [],
   "source": [
    "age(date_naiss=ymd('1970-01-01'), date_cour=ymd('1975-01-01'))"
   ]
  },
  {
   "cell_type": "code",
   "execution_count": null,
   "metadata": {
    "collapsed": true
   },
   "outputs": [],
   "source": [
    "a$age_arith<-round(age(date_cour =Sys.Date() , date_naiss = as.Date(a$birthdate)))"
   ]
  },
  {
   "cell_type": "code",
   "execution_count": null,
   "metadata": {
    "collapsed": true
   },
   "outputs": [],
   "source": [
    "# a$age_arith<-round(as.numeric((Sys.Date()-as.Date(a$birthdate))/365.25),0)"
   ]
  },
  {
   "cell_type": "code",
   "execution_count": null,
   "metadata": {
    "collapsed": true
   },
   "outputs": [],
   "source": [
    "head(a)"
   ]
  },
  {
   "cell_type": "markdown",
   "metadata": {},
   "source": [
    "\n",
    "Améliorez notre fonction âge avec une validation que les arguments entrés sont bien des dates"
   ]
  },
  {
   "cell_type": "markdown",
   "metadata": {},
   "source": [
    "D'abbord vérifions la condition;"
   ]
  },
  {
   "cell_type": "code",
   "execution_count": null,
   "metadata": {
    "collapsed": true
   },
   "outputs": [],
   "source": [
    "is.Date(date_naiss) && is.Date(date_cour)"
   ]
  },
  {
   "cell_type": "markdown",
   "metadata": {},
   "source": [
    "ensuite nous pouvons insérer"
   ]
  },
  {
   "cell_type": "code",
   "execution_count": null,
   "metadata": {
    "collapsed": true
   },
   "outputs": [],
   "source": [
    "age<-function(date_naiss=ymd('1970-01-01'), date_cour=Sys.Date()){\n",
    "    if (is.Date(date_naiss) && is.Date(date_cour)){\n",
    "    return(as.numeric((date_cour-date_naiss)/365.25))\n",
    "        }\n",
    "}"
   ]
  },
  {
   "cell_type": "markdown",
   "metadata": {},
   "source": [
    "## lubridate"
   ]
  },
  {
   "cell_type": "markdown",
   "metadata": {},
   "source": [
    "Dans le package `lubridate`, il existe une fonction qui calcule l'intervale entre deux date, utilisons cette fonction pour valider le calcul de notre fonction `age` que nous avons crée précédemment"
   ]
  },
  {
   "cell_type": "code",
   "execution_count": null,
   "metadata": {
    "collapsed": true
   },
   "outputs": [],
   "source": [
    "a$age_lubri<-round(interval(start = as.Date(a$birthdate), end =Sys.Date() ) /\n",
    "        duration(num = 1, units = \"years\"),0)"
   ]
  },
  {
   "cell_type": "code",
   "execution_count": null,
   "metadata": {
    "collapsed": true
   },
   "outputs": [],
   "source": [
    "head(a)"
   ]
  },
  {
   "cell_type": "markdown",
   "metadata": {},
   "source": [
    "# for loops"
   ]
  },
  {
   "cell_type": "markdown",
   "metadata": {},
   "source": [
    "## numéro1"
   ]
  },
  {
   "cell_type": "markdown",
   "metadata": {},
   "source": [
    "En utilisant les variables suivantes:\n",
    "x=1\n",
    "y=40\n",
    "i=c(1:10)\n",
    "Pour cet exercice, écrivez une boucle for () qui incrémente x par trois et diminue y par deux, pour chaque i."
   ]
  },
  {
   "cell_type": "code",
   "execution_count": null,
   "metadata": {
    "collapsed": true
   },
   "outputs": [],
   "source": []
  },
  {
   "cell_type": "code",
   "execution_count": null,
   "metadata": {
    "collapsed": true
   },
   "outputs": [],
   "source": [
    "x=1\n",
    "y=40\n",
    "i=c(1:10)\n",
    "for (j in i)\n",
    "{x=x+3\n",
    " y=y-2\n",
    "print(paste(x, y, sep=\"_\"))\n",
    "}"
   ]
  },
  {
   "cell_type": "markdown",
   "metadata": {},
   "source": [
    "## Numéro 2"
   ]
  },
  {
   "cell_type": "markdown",
   "metadata": {},
   "source": [
    "Soit les variables:"
   ]
  },
  {
   "cell_type": "code",
   "execution_count": null,
   "metadata": {
    "collapsed": true
   },
   "outputs": [],
   "source": [
    "a=15:10\n",
    "b=20:15"
   ]
  },
  {
   "cell_type": "markdown",
   "metadata": {},
   "source": [
    "Pour cet exercice, écrivez une boucle `while()` qui calcule un vecteur x = 225 224 221 216 209 200, tel que"
   ]
  },
  {
   "cell_type": "markdown",
   "metadata": {},
   "source": [
    "```R\n",
    "x[1]=a[1]*b[6]\n",
    "x[2]=a[2]*b[5]\n",
    "x[3]=a[3]*b[5]\n",
    ".\n",
    ".\n",
    "x[6]=a[6]*b[1]\n",
    "```"
   ]
  },
  {
   "cell_type": "code",
   "execution_count": null,
   "metadata": {
    "collapsed": true
   },
   "outputs": [],
   "source": [
    "x=c()\n",
    "i=1\n",
    "j=6\n",
    "while (i<7)\n",
    "{\n",
    "  x[i]=a[i]*b[j]\n",
    "  i=i+1\n",
    "  j=j-1\n",
    "}\n",
    "x"
   ]
  },
  {
   "cell_type": "markdown",
   "metadata": {},
   "source": [
    "## numero 3"
   ]
  },
  {
   "cell_type": "markdown",
   "metadata": {},
   "source": [
    "en utilisant la variable suivante:\n",
    "\n",
    "a=1:10\n",
    "\n",
    "Pour cet exercice, écrivez une boucle `while ()` qui calcule un vecteur x = 1 3 6 10 15 21 28 36 45 55, tel que\n",
    "\n",
    "```R\n",
    "x[1]=a[1]\n",
    "x[2]=a[1]+a[2]\n",
    "x[3]=a[1]+a[2]+a[3]\n",
    ".\n",
    ".\n",
    "```"
   ]
  },
  {
   "cell_type": "code",
   "execution_count": null,
   "metadata": {
    "collapsed": true
   },
   "outputs": [],
   "source": [
    "a=1:10\n",
    "\n",
    "i=1\n",
    "x=c()\n",
    "while (i<=10)\n",
    "  {\n",
    "  x[i]=sum(a[1:i])\n",
    "  i=i+1\n",
    "  }\n",
    "x"
   ]
  },
  {
   "cell_type": "markdown",
   "metadata": {},
   "source": [
    "## Numéro 4"
   ]
  },
  {
   "cell_type": "markdown",
   "metadata": {},
   "source": [
    "en utilisant la variable suivante:\n",
    "```R\n",
    "i=10\n",
    "x=10\n",
    "```\n",
    "Pour cet exercice, écrivez une boucle `repeat()` qui diminue en calculant `x = x / i` jusqu'à ce que `i = 0`."
   ]
  },
  {
   "cell_type": "code",
   "execution_count": 5,
   "metadata": {},
   "outputs": [
    {
     "name": "stdout",
     "output_type": "stream",
     "text": [
      "[1] 1\n",
      "[1] 0.1111111\n",
      "[1] 0.01388889\n",
      "[1] 0.001984127\n",
      "[1] 0.0003306878\n",
      "[1] 6.613757e-05\n",
      "[1] 1.653439e-05\n",
      "[1] 5.511464e-06\n",
      "[1] 2.755732e-06\n",
      "[1] 2.755732e-06\n"
     ]
    }
   ],
   "source": [
    "i=10\n",
    "x=10\n",
    "\n",
    "repeat\n",
    "  {x=x/i\n",
    "  print(x)\n",
    "  i=i-1\n",
    "  if (i==0)\n",
    "    break\n",
    "  }"
   ]
  },
  {
   "cell_type": "markdown",
   "metadata": {},
   "source": [
    "## Numéro 5"
   ]
  },
  {
   "cell_type": "markdown",
   "metadata": {},
   "source": [
    "Puisque vous êtes en fin de session, vous voulez faire un plan d'étude pour bien réussir vos examens. Ecrivez une boucle repeat qui permet d'afficher toutes les dates entre aujourd'hui et le jour de votre dernier examen:"
   ]
  },
  {
   "cell_type": "code",
   "execution_count": 8,
   "metadata": {},
   "outputs": [
    {
     "name": "stdout",
     "output_type": "stream",
     "text": [
      "[1] \"2018-03-29\"\n",
      "[1] \"2018-03-30\"\n",
      "[1] \"2018-03-31\"\n",
      "[1] \"2018-04-01\"\n",
      "[1] \"2018-04-02\"\n",
      "[1] \"2018-04-03\"\n",
      "[1] \"2018-04-04\"\n",
      "[1] \"2018-04-05\"\n",
      "[1] \"2018-04-06\"\n",
      "[1] \"2018-04-07\"\n",
      "[1] \"2018-04-08\"\n",
      "[1] \"2018-04-09\"\n",
      "[1] \"2018-04-10\"\n",
      "[1] \"2018-04-11\"\n",
      "[1] \"2018-04-12\"\n",
      "[1] \"2018-04-13\"\n",
      "[1] \"2018-04-14\"\n",
      "[1] \"2018-04-15\"\n",
      "[1] \"2018-04-16\"\n",
      "[1] \"2018-04-17\"\n",
      "[1] \"2018-04-18\"\n"
     ]
    }
   ],
   "source": [
    "auj<-as.Date(Sys.Date(),\"%d/%m/%Y\")\n",
    "dernier_exam<-as.Date(\"18/04/2018\",\"%d/%m/%Y\")\n",
    "repeat\n",
    "{\n",
    "auj<-auj+1\n",
    "    print(auj)\n",
    "if (auj==dernier_exam)\n",
    "  break\n",
    "}"
   ]
  },
  {
   "cell_type": "code",
   "execution_count": null,
   "metadata": {
    "collapsed": true
   },
   "outputs": [],
   "source": []
  }
 ],
 "metadata": {
  "anaconda-cloud": {},
  "kernelspec": {
   "display_name": "R",
   "language": "R",
   "name": "ir"
  },
  "language_info": {
   "codemirror_mode": "r",
   "file_extension": ".r",
   "mimetype": "text/x-r-source",
   "name": "R",
   "pygments_lexer": "r",
   "version": "3.4.3"
  },
  "latex_envs": {
   "LaTeX_envs_menu_present": true,
   "autoclose": false,
   "autocomplete": true,
   "bibliofile": "biblio.bib",
   "cite_by": "apalike",
   "current_citInitial": 1,
   "eqLabelWithNumbers": true,
   "eqNumInitial": 1,
   "hotkeys": {
    "equation": "Ctrl-E",
    "itemize": "Ctrl-I"
   },
   "labels_anchors": false,
   "latex_user_defs": false,
   "report_style_numbering": false,
   "user_envs_cfg": false
  },
  "toc": {
   "base_numbering": 1,
   "nav_menu": {
    "height": "228px",
    "width": "252px"
   },
   "number_sections": false,
   "sideBar": true,
   "skip_h1_title": false,
   "title_cell": "Table of Contents",
   "title_sidebar": "Contents",
   "toc_cell": false,
   "toc_position": {},
   "toc_section_display": "block",
   "toc_window_display": true
  }
 },
 "nbformat": 4,
 "nbformat_minor": 1
}
