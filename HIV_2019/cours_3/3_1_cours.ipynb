{
 "cells": [
  {
   "cell_type": "markdown",
   "metadata": {
    "slideshow": {
     "slide_type": "slide"
    },
    "toc": "true"
   },
   "source": [
    "<h1>Table of Contents<span class=\"tocSkip\"></span></h1>\n",
    "<div class=\"toc\"><ul class=\"toc-item\"><li><span><a href=\"#Opérations-sur-les-matrices\" data-toc-modified-id=\"Opérations-sur-les-matrices-1\">Opérations sur les matrices</a></span><ul class=\"toc-item\"><li><span><a href=\"#apply\" data-toc-modified-id=\"apply-1.1\">apply</a></span></li><li><span><a href=\"#lapply\" data-toc-modified-id=\"lapply-1.2\">lapply</a></span></li><li><span><a href=\"#sapply\" data-toc-modified-id=\"sapply-1.3\">sapply</a></span></li><li><span><a href=\"#autre\" data-toc-modified-id=\"autre-1.4\">autre</a></span></li></ul></li></ul></div>"
   ]
  },
  {
   "cell_type": "code",
   "execution_count": 2,
   "metadata": {
    "collapsed": true,
    "slideshow": {
     "slide_type": "subslide"
    }
   },
   "outputs": [],
   "source": [
    "options(repr.matrix.max.cols=8, repr.matrix.max.rows=5)"
   ]
  },
  {
   "cell_type": "markdown",
   "metadata": {
    "slideshow": {
     "slide_type": "slide"
    }
   },
   "source": [
    "# Opérations sur les matrices\n"
   ]
  },
  {
   "cell_type": "markdown",
   "metadata": {
    "slideshow": {
     "slide_type": "subslide"
    }
   },
   "source": [
    "## apply"
   ]
  },
  {
   "cell_type": "markdown",
   "metadata": {
    "slideshow": {
     "slide_type": "fragment"
    }
   },
   "source": [
    "\n",
    "Nous avons vu qu'il était possible de faire des opérations sur les matrices en ligne ou en colonne. Toutefois, ce n'est pas toutes les fonctions statistiques qui sont applicables sur des colonnes et/ou lignes comme  `colMeans`. Pour appliquer d'utres sortes de fonctions, nous devons utiliser la fonction `apply`.\n",
    "\n",
    "On peut alors utiliser `apply` lorsqu'on veut appliquer un calcule ou une fonction quelconque (FUN) sur des colonnes ou des lignes d'une matrice (incluant les matrices plus que 2D)\n",
    "\n",
    "Soit une matrice de 12 premiers entiers;"
   ]
  },
  {
   "cell_type": "code",
   "execution_count": 2,
   "metadata": {
    "slideshow": {
     "slide_type": "subslide"
    }
   },
   "outputs": [
    {
     "data": {
      "text/html": [
       "<table>\n",
       "<tbody>\n",
       "\t<tr><td>1 </td><td>4 </td><td>7 </td><td>10</td></tr>\n",
       "\t<tr><td>2 </td><td>5 </td><td>8 </td><td>11</td></tr>\n",
       "\t<tr><td>3 </td><td>6 </td><td>9 </td><td>12</td></tr>\n",
       "</tbody>\n",
       "</table>\n"
      ],
      "text/latex": [
       "\\begin{tabular}{llll}\n",
       "\t 1  & 4  & 7  & 10\\\\\n",
       "\t 2  & 5  & 8  & 11\\\\\n",
       "\t 3  & 6  & 9  & 12\\\\\n",
       "\\end{tabular}\n"
      ],
      "text/markdown": [
       "\n",
       "| 1  | 4  | 7  | 10 | \n",
       "| 2  | 5  | 8  | 11 | \n",
       "| 3  | 6  | 9  | 12 | \n",
       "\n",
       "\n"
      ],
      "text/plain": [
       "     [,1] [,2] [,3] [,4]\n",
       "[1,] 1    4    7    10  \n",
       "[2,] 2    5    8    11  \n",
       "[3,] 3    6    9    12  "
      ]
     },
     "metadata": {},
     "output_type": "display_data"
    }
   ],
   "source": [
    "m<-matrix(1:12, nrow=3)\n",
    "m"
   ]
  },
  {
   "cell_type": "markdown",
   "metadata": {
    "slideshow": {
     "slide_type": "subslide"
    }
   },
   "source": [
    "Calculons le logarithme naturel de chaque élément de cette matrice:"
   ]
  },
  {
   "cell_type": "code",
   "execution_count": 3,
   "metadata": {
    "slideshow": {
     "slide_type": "fragment"
    }
   },
   "outputs": [
    {
     "data": {
      "text/html": [
       "<table>\n",
       "<tbody>\n",
       "\t<tr><td>0.0000000</td><td>1.386294 </td><td>1.945910 </td><td>2.302585 </td></tr>\n",
       "\t<tr><td>0.6931472</td><td>1.609438 </td><td>2.079442 </td><td>2.397895 </td></tr>\n",
       "\t<tr><td>1.0986123</td><td>1.791759 </td><td>2.197225 </td><td>2.484907 </td></tr>\n",
       "</tbody>\n",
       "</table>\n"
      ],
      "text/latex": [
       "\\begin{tabular}{llll}\n",
       "\t 0.0000000 & 1.386294  & 1.945910  & 2.302585 \\\\\n",
       "\t 0.6931472 & 1.609438  & 2.079442  & 2.397895 \\\\\n",
       "\t 1.0986123 & 1.791759  & 2.197225  & 2.484907 \\\\\n",
       "\\end{tabular}\n"
      ],
      "text/markdown": [
       "\n",
       "| 0.0000000 | 1.386294  | 1.945910  | 2.302585  | \n",
       "| 0.6931472 | 1.609438  | 2.079442  | 2.397895  | \n",
       "| 1.0986123 | 1.791759  | 2.197225  | 2.484907  | \n",
       "\n",
       "\n"
      ],
      "text/plain": [
       "     [,1]      [,2]     [,3]     [,4]    \n",
       "[1,] 0.0000000 1.386294 1.945910 2.302585\n",
       "[2,] 0.6931472 1.609438 2.079442 2.397895\n",
       "[3,] 1.0986123 1.791759 2.197225 2.484907"
      ]
     },
     "metadata": {},
     "output_type": "display_data"
    }
   ],
   "source": [
    "h<-apply(m, c(1,2), log) #c(1,2) ça veut dire sur ligne et colonne\n",
    "h"
   ]
  },
  {
   "cell_type": "markdown",
   "metadata": {
    "slideshow": {
     "slide_type": "subslide"
    }
   },
   "source": [
    "Créons une matrice `3 x 1` qui nous retourne le résultat de la somme de chaque ligne;"
   ]
  },
  {
   "cell_type": "code",
   "execution_count": 4,
   "metadata": {
    "slideshow": {
     "slide_type": "fragment"
    }
   },
   "outputs": [
    {
     "data": {
      "text/html": [
       "<table>\n",
       "<tbody>\n",
       "\t<tr><td>22</td></tr>\n",
       "\t<tr><td>26</td></tr>\n",
       "\t<tr><td>30</td></tr>\n",
       "</tbody>\n",
       "</table>\n"
      ],
      "text/latex": [
       "\\begin{tabular}{l}\n",
       "\t 22\\\\\n",
       "\t 26\\\\\n",
       "\t 30\\\\\n",
       "\\end{tabular}\n"
      ],
      "text/markdown": [
       "\n",
       "| 22 | \n",
       "| 26 | \n",
       "| 30 | \n",
       "\n",
       "\n"
      ],
      "text/plain": [
       "     [,1]\n",
       "[1,] 22  \n",
       "[2,] 26  \n",
       "[3,] 30  "
      ]
     },
     "metadata": {},
     "output_type": "display_data"
    }
   ],
   "source": [
    "h<-matrix(apply(m, 1, sum))\n",
    "h"
   ]
  },
  {
   "cell_type": "markdown",
   "metadata": {
    "slideshow": {
     "slide_type": "subslide"
    }
   },
   "source": [
    "Si nous comparerons à la fonction `rowSums` que nous avons vue;"
   ]
  },
  {
   "cell_type": "code",
   "execution_count": 7,
   "metadata": {
    "slideshow": {
     "slide_type": "fragment"
    }
   },
   "outputs": [
    {
     "data": {
      "text/html": [
       "<ol class=list-inline>\n",
       "\t<li>22</li>\n",
       "\t<li>26</li>\n",
       "\t<li>30</li>\n",
       "</ol>\n"
      ],
      "text/latex": [
       "\\begin{enumerate*}\n",
       "\\item 22\n",
       "\\item 26\n",
       "\\item 30\n",
       "\\end{enumerate*}\n"
      ],
      "text/markdown": [
       "1. 22\n",
       "2. 26\n",
       "3. 30\n",
       "\n",
       "\n"
      ],
      "text/plain": [
       "[1] 22 26 30"
      ]
     },
     "metadata": {},
     "output_type": "display_data"
    }
   ],
   "source": [
    "rowSums(m)"
   ]
  },
  {
   "cell_type": "markdown",
   "metadata": {
    "slideshow": {
     "slide_type": "slide"
    }
   },
   "source": [
    "## lapply"
   ]
  },
  {
   "cell_type": "markdown",
   "metadata": {
    "slideshow": {
     "slide_type": "subslide"
    }
   },
   "source": [
    "La fonction lapply applique une fonction quelconque (FUN) à tous les éléments d’un vecteur ou d’une liste X et retourne le résultat sous forme de liste."
   ]
  },
  {
   "cell_type": "markdown",
   "metadata": {
    "slideshow": {
     "slide_type": "fragment"
    }
   },
   "source": [
    "Dans l'exemple suivant, nous avons une liste de trois vecteurs {vecteur_1, vecteur_2, vecteur_3} de taille différente, on voudrait savoir quelle est la taille de chaque élément, on voudrait la réponse dans une **liste**;"
   ]
  },
  {
   "cell_type": "code",
   "execution_count": 4,
   "metadata": {
    "slideshow": {
     "slide_type": "subslide"
    }
   },
   "outputs": [
    {
     "data": {
      "text/html": [
       "<dl>\n",
       "\t<dt>$vecteur_1</dt>\n",
       "\t\t<dd>1</dd>\n",
       "\t<dt>$vecteur_2</dt>\n",
       "\t\t<dd>17</dd>\n",
       "\t<dt>$vecteur_3</dt>\n",
       "\t\t<dd>43</dd>\n",
       "</dl>\n"
      ],
      "text/latex": [
       "\\begin{description}\n",
       "\\item[\\$vecteur\\_1] 1\n",
       "\\item[\\$vecteur\\_2] 17\n",
       "\\item[\\$vecteur\\_3] 43\n",
       "\\end{description}\n"
      ],
      "text/markdown": [
       "$vecteur_1\n",
       ":   1\n",
       "$vecteur_2\n",
       ":   17\n",
       "$vecteur_3\n",
       ":   43\n",
       "\n",
       "\n"
      ],
      "text/plain": [
       "$vecteur_1\n",
       "[1] 1\n",
       "\n",
       "$vecteur_2\n",
       "[1] 17\n",
       "\n",
       "$vecteur_3\n",
       "[1] 43\n"
      ]
     },
     "metadata": {},
     "output_type": "display_data"
    }
   ],
   "source": [
    "x <- list(vecteur_1 = 1, vecteur_2 = 1:17, vecteur_3 = 55:97) \n",
    "lapply(x, FUN = length) "
   ]
  },
  {
   "cell_type": "markdown",
   "metadata": {
    "slideshow": {
     "slide_type": "subslide"
    }
   },
   "source": [
    "Dans le résultat ci-haut, la fonction `lapply` nous a retourné une liste de trois éléments avec la taille de chaque vecteur."
   ]
  },
  {
   "cell_type": "markdown",
   "metadata": {
    "slideshow": {
     "slide_type": "subslide"
    }
   },
   "source": [
    "Regardons un autre exemple où nous cherchons à créer quatre échantillons aléatoires de taille {5, 6, 7, 8} tirés du vecteur `x= 1 2 3 4 5 6 7 8 9 10`"
   ]
  },
  {
   "cell_type": "code",
   "execution_count": 5,
   "metadata": {
    "slideshow": {
     "slide_type": "subslide"
    }
   },
   "outputs": [
    {
     "data": {
      "text/html": [
       "<ol>\n",
       "\t<li><ol class=list-inline>\n",
       "\t<li>3</li>\n",
       "\t<li>8</li>\n",
       "\t<li>4</li>\n",
       "\t<li>7</li>\n",
       "\t<li>6</li>\n",
       "</ol>\n",
       "</li>\n",
       "\t<li><ol class=list-inline>\n",
       "\t<li>1</li>\n",
       "\t<li>5</li>\n",
       "\t<li>8</li>\n",
       "\t<li>4</li>\n",
       "\t<li>3</li>\n",
       "\t<li>9</li>\n",
       "</ol>\n",
       "</li>\n",
       "\t<li><ol class=list-inline>\n",
       "\t<li>5</li>\n",
       "\t<li>7</li>\n",
       "\t<li>10</li>\n",
       "\t<li>1</li>\n",
       "\t<li>6</li>\n",
       "\t<li>2</li>\n",
       "\t<li>9</li>\n",
       "</ol>\n",
       "</li>\n",
       "\t<li><ol class=list-inline>\n",
       "\t<li>4</li>\n",
       "\t<li>9</li>\n",
       "\t<li>8</li>\n",
       "\t<li>5</li>\n",
       "\t<li>10</li>\n",
       "\t<li>7</li>\n",
       "\t<li>3</li>\n",
       "\t<li>6</li>\n",
       "</ol>\n",
       "</li>\n",
       "</ol>\n"
      ],
      "text/latex": [
       "\\begin{enumerate}\n",
       "\\item \\begin{enumerate*}\n",
       "\\item 3\n",
       "\\item 8\n",
       "\\item 4\n",
       "\\item 7\n",
       "\\item 6\n",
       "\\end{enumerate*}\n",
       "\n",
       "\\item \\begin{enumerate*}\n",
       "\\item 1\n",
       "\\item 5\n",
       "\\item 8\n",
       "\\item 4\n",
       "\\item 3\n",
       "\\item 9\n",
       "\\end{enumerate*}\n",
       "\n",
       "\\item \\begin{enumerate*}\n",
       "\\item 5\n",
       "\\item 7\n",
       "\\item 10\n",
       "\\item 1\n",
       "\\item 6\n",
       "\\item 2\n",
       "\\item 9\n",
       "\\end{enumerate*}\n",
       "\n",
       "\\item \\begin{enumerate*}\n",
       "\\item 4\n",
       "\\item 9\n",
       "\\item 8\n",
       "\\item 5\n",
       "\\item 10\n",
       "\\item 7\n",
       "\\item 3\n",
       "\\item 6\n",
       "\\end{enumerate*}\n",
       "\n",
       "\\end{enumerate}\n"
      ],
      "text/markdown": [
       "1. 1. 3\n",
       "2. 8\n",
       "3. 4\n",
       "4. 7\n",
       "5. 6\n",
       "\n",
       "\n",
       "\n",
       "2. 1. 1\n",
       "2. 5\n",
       "3. 8\n",
       "4. 4\n",
       "5. 3\n",
       "6. 9\n",
       "\n",
       "\n",
       "\n",
       "3. 1. 5\n",
       "2. 7\n",
       "3. 10\n",
       "4. 1\n",
       "5. 6\n",
       "6. 2\n",
       "7. 9\n",
       "\n",
       "\n",
       "\n",
       "4. 1. 4\n",
       "2. 9\n",
       "3. 8\n",
       "4. 5\n",
       "5. 10\n",
       "6. 7\n",
       "7. 3\n",
       "8. 6\n",
       "\n",
       "\n",
       "\n",
       "\n",
       "\n"
      ],
      "text/plain": [
       "[[1]]\n",
       "[1] 3 8 4 7 6\n",
       "\n",
       "[[2]]\n",
       "[1] 1 5 8 4 3 9\n",
       "\n",
       "[[3]]\n",
       "[1]  5  7 10  1  6  2  9\n",
       "\n",
       "[[4]]\n",
       "[1]  4  9  8  5 10  7  3  6\n"
      ]
     },
     "metadata": {},
     "output_type": "display_data"
    }
   ],
   "source": [
    "set.seed(123)\n",
    "lapply(5:8, sample, x = 1:10)"
   ]
  },
  {
   "cell_type": "markdown",
   "metadata": {
    "slideshow": {
     "slide_type": "slide"
    }
   },
   "source": [
    "## sapply\n",
    "\n",
    "Dans certains cas, on voudrait appliquer une fonction quelconque sur une liste, mais on ne veut pas que `R` nous retourne une une liste, on désire plutôt que `R` nous retourne un vecteur. La fonction `sapply` fait exactement cela. Le résultat est donc **s**implifiée par rapport à celui de `lapply`, d’où le nom de la fonction. "
   ]
  },
  {
   "cell_type": "markdown",
   "metadata": {
    "slideshow": {
     "slide_type": "subslide"
    }
   },
   "source": [
    "La taille de chaque élément de notre liste;"
   ]
  },
  {
   "cell_type": "code",
   "execution_count": 7,
   "metadata": {
    "slideshow": {
     "slide_type": "fragment"
    }
   },
   "outputs": [
    {
     "data": {
      "text/html": [
       "<dl class=dl-horizontal>\n",
       "\t<dt>vecteur_1</dt>\n",
       "\t\t<dd>1</dd>\n",
       "\t<dt>vecteur_2</dt>\n",
       "\t\t<dd>17</dd>\n",
       "\t<dt>vecteur_3</dt>\n",
       "\t\t<dd>43</dd>\n",
       "</dl>\n"
      ],
      "text/latex": [
       "\\begin{description*}\n",
       "\\item[vecteur\\textbackslash{}\\_1] 1\n",
       "\\item[vecteur\\textbackslash{}\\_2] 17\n",
       "\\item[vecteur\\textbackslash{}\\_3] 43\n",
       "\\end{description*}\n"
      ],
      "text/markdown": [
       "vecteur_1\n",
       ":   1vecteur_2\n",
       ":   17vecteur_3\n",
       ":   43\n",
       "\n"
      ],
      "text/plain": [
       "vecteur_1 vecteur_2 vecteur_3 \n",
       "        1        17        43 "
      ]
     },
     "metadata": {},
     "output_type": "display_data"
    }
   ],
   "source": [
    "sapply(x, FUN = length)"
   ]
  },
  {
   "cell_type": "markdown",
   "metadata": {
    "slideshow": {
     "slide_type": "subslide"
    }
   },
   "source": [
    "ou la somme de chaque élément de notre liste `x`"
   ]
  },
  {
   "cell_type": "code",
   "execution_count": 6,
   "metadata": {
    "slideshow": {
     "slide_type": "fragment"
    }
   },
   "outputs": [
    {
     "data": {
      "text/html": [
       "<dl class=dl-horizontal>\n",
       "\t<dt>vecteur_1</dt>\n",
       "\t\t<dd>1</dd>\n",
       "\t<dt>vecteur_2</dt>\n",
       "\t\t<dd>153</dd>\n",
       "\t<dt>vecteur_3</dt>\n",
       "\t\t<dd>3268</dd>\n",
       "</dl>\n"
      ],
      "text/latex": [
       "\\begin{description*}\n",
       "\\item[vecteur\\textbackslash{}\\_1] 1\n",
       "\\item[vecteur\\textbackslash{}\\_2] 153\n",
       "\\item[vecteur\\textbackslash{}\\_3] 3268\n",
       "\\end{description*}\n"
      ],
      "text/markdown": [
       "vecteur_1\n",
       ":   1vecteur_2\n",
       ":   153vecteur_3\n",
       ":   3268\n",
       "\n"
      ],
      "text/plain": [
       "vecteur_1 vecteur_2 vecteur_3 \n",
       "        1       153      3268 "
      ]
     },
     "metadata": {},
     "output_type": "display_data"
    }
   ],
   "source": [
    "sapply(x, FUN = sum)   "
   ]
  },
  {
   "cell_type": "markdown",
   "metadata": {
    "slideshow": {
     "slide_type": "subslide"
    }
   },
   "source": [
    "Si le résultat de chaque application de la fonction est un vecteur et que les vecteurs sont tous de la même longueur, alors sapply retourne une matrice, remplie comme toujours par colonne :"
   ]
  },
  {
   "cell_type": "code",
   "execution_count": 7,
   "metadata": {
    "slideshow": {
     "slide_type": "fragment"
    }
   },
   "outputs": [
    {
     "data": {
      "text/html": [
       "<ol>\n",
       "\t<li><ol class=list-inline>\n",
       "\t<li>6</li>\n",
       "\t<li>10</li>\n",
       "\t<li>3</li>\n",
       "\t<li>2</li>\n",
       "\t<li>9</li>\n",
       "</ol>\n",
       "</li>\n",
       "\t<li><ol class=list-inline>\n",
       "\t<li>10</li>\n",
       "\t<li>7</li>\n",
       "\t<li>9</li>\n",
       "\t<li>1</li>\n",
       "\t<li>3</li>\n",
       "</ol>\n",
       "</li>\n",
       "\t<li><ol class=list-inline>\n",
       "\t<li>8</li>\n",
       "\t<li>2</li>\n",
       "\t<li>3</li>\n",
       "\t<li>9</li>\n",
       "\t<li>1</li>\n",
       "</ol>\n",
       "</li>\n",
       "</ol>\n"
      ],
      "text/latex": [
       "\\begin{enumerate}\n",
       "\\item \\begin{enumerate*}\n",
       "\\item 6\n",
       "\\item 10\n",
       "\\item 3\n",
       "\\item 2\n",
       "\\item 9\n",
       "\\end{enumerate*}\n",
       "\n",
       "\\item \\begin{enumerate*}\n",
       "\\item 10\n",
       "\\item 7\n",
       "\\item 9\n",
       "\\item 1\n",
       "\\item 3\n",
       "\\end{enumerate*}\n",
       "\n",
       "\\item \\begin{enumerate*}\n",
       "\\item 8\n",
       "\\item 2\n",
       "\\item 3\n",
       "\\item 9\n",
       "\\item 1\n",
       "\\end{enumerate*}\n",
       "\n",
       "\\end{enumerate}\n"
      ],
      "text/markdown": [
       "1. 1. 6\n",
       "2. 10\n",
       "3. 3\n",
       "4. 2\n",
       "5. 9\n",
       "\n",
       "\n",
       "\n",
       "2. 1. 10\n",
       "2. 7\n",
       "3. 9\n",
       "4. 1\n",
       "5. 3\n",
       "\n",
       "\n",
       "\n",
       "3. 1. 8\n",
       "2. 2\n",
       "3. 3\n",
       "4. 9\n",
       "5. 1\n",
       "\n",
       "\n",
       "\n",
       "\n",
       "\n"
      ],
      "text/plain": [
       "[[1]]\n",
       "[1]  6 10  3  2  9\n",
       "\n",
       "[[2]]\n",
       "[1] 10  7  9  1  3\n",
       "\n",
       "[[3]]\n",
       "[1] 8 2 3 9 1\n"
      ]
     },
     "metadata": {},
     "output_type": "display_data"
    }
   ],
   "source": [
    "(x <- lapply(rep(5, 3), sample, x = 1:10))"
   ]
  },
  {
   "cell_type": "code",
   "execution_count": 8,
   "metadata": {
    "slideshow": {
     "slide_type": "subslide"
    }
   },
   "outputs": [
    {
     "data": {
      "text/html": [
       "<table>\n",
       "<tbody>\n",
       "\t<tr><td> 2</td><td> 1</td><td>1 </td></tr>\n",
       "\t<tr><td> 3</td><td> 3</td><td>2 </td></tr>\n",
       "\t<tr><td> 6</td><td> 7</td><td>3 </td></tr>\n",
       "\t<tr><td> 9</td><td> 9</td><td>8 </td></tr>\n",
       "\t<tr><td>10</td><td>10</td><td>9 </td></tr>\n",
       "</tbody>\n",
       "</table>\n"
      ],
      "text/latex": [
       "\\begin{tabular}{lll}\n",
       "\t  2 &  1 & 1 \\\\\n",
       "\t  3 &  3 & 2 \\\\\n",
       "\t  6 &  7 & 3 \\\\\n",
       "\t  9 &  9 & 8 \\\\\n",
       "\t 10 & 10 & 9 \\\\\n",
       "\\end{tabular}\n"
      ],
      "text/markdown": [
       "\n",
       "|  2 |  1 | 1  | \n",
       "|  3 |  3 | 2  | \n",
       "|  6 |  7 | 3  | \n",
       "|  9 |  9 | 8  | \n",
       "| 10 | 10 | 9  | \n",
       "\n",
       "\n"
      ],
      "text/plain": [
       "     [,1] [,2] [,3]\n",
       "[1,]  2    1   1   \n",
       "[2,]  3    3   2   \n",
       "[3,]  6    7   3   \n",
       "[4,]  9    9   8   \n",
       "[5,] 10   10   9   "
      ]
     },
     "metadata": {},
     "output_type": "display_data"
    }
   ],
   "source": [
    "sapply(x, sort)"
   ]
  },
  {
   "cell_type": "markdown",
   "metadata": {
    "slideshow": {
     "slide_type": "slide"
    }
   },
   "source": [
    "## autre\n",
    "Il existe d'autres façons de manipuler les matrices, listes, vecteurs ...etc. Dans ce cours nous avons couvert les trois principaux, toutefois, on peut avoir besoin dans certains cas d'utiliser `vapply`, `mapply`, `Map`, `rapply` ou même `tapply` qui s'apparentent tous aux trois fonctions que nous avons couverts avec plus d'options ou format différent du résultat obtenu."
   ]
  }
 ],
 "metadata": {
  "anaconda-cloud": {},
  "celltoolbar": "Slideshow",
  "kernelspec": {
   "display_name": "R",
   "language": "R",
   "name": "ir"
  },
  "language_info": {
   "codemirror_mode": "r",
   "file_extension": ".r",
   "mimetype": "text/x-r-source",
   "name": "R",
   "pygments_lexer": "r",
   "version": "3.4.3"
  },
  "latex_envs": {
   "LaTeX_envs_menu_present": true,
   "autoclose": false,
   "autocomplete": true,
   "bibliofile": "biblio.bib",
   "cite_by": "apalike",
   "current_citInitial": 1,
   "eqLabelWithNumbers": true,
   "eqNumInitial": 1,
   "hotkeys": {
    "equation": "Ctrl-E",
    "itemize": "Ctrl-I"
   },
   "labels_anchors": false,
   "latex_user_defs": false,
   "report_style_numbering": false,
   "user_envs_cfg": false
  },
  "toc": {
   "base_numbering": 1,
   "nav_menu": {
    "height": "444px",
    "width": "252px"
   },
   "number_sections": false,
   "sideBar": true,
   "skip_h1_title": false,
   "title_cell": "Table of Contents",
   "title_sidebar": "Contents",
   "toc_cell": true,
   "toc_position": {
    "height": "1132px",
    "left": "0px",
    "right": "20px",
    "top": "159px",
    "width": "211px"
   },
   "toc_section_display": "block",
   "toc_window_display": true
  }
 },
 "nbformat": 4,
 "nbformat_minor": 1
}
